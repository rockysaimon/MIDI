{
 "cells": [
  {
   "cell_type": "code",
   "execution_count": 1,
   "metadata": {},
   "outputs": [],
   "source": [
    "import numpy as np\n",
    "import pandas as pd\n",
    "import os\n",
    "from music21 import converter, instrument, note, chord, midi    \n",
    "from tensorflow.keras.models import Sequential\n",
    "from tensorflow.keras.layers import LSTM, Dense, Dropout\n",
    "from tensorflow.keras.utils import to_categorical\n",
    "import matplotlib.pyplot as plt"
   ]
  },
  {
   "cell_type": "code",
   "execution_count": 2,
   "metadata": {},
   "outputs": [
    {
     "name": "stderr",
     "output_type": "stream",
     "text": [
      "C:\\Users\\zapat\\AppData\\Local\\Packages\\PythonSoftwareFoundation.Python.3.12_qbz5n2kfra8p0\\LocalCache\\local-packages\\Python312\\site-packages\\music21\\stream\\base.py:3689: Music21DeprecationWarning: .flat is deprecated.  Call .flatten() instead\n",
      "  return self.iter().getElementsByClass(classFilterList)\n"
     ]
    },
    {
     "name": "stdout",
     "output_type": "stream",
     "text": [
      "Error al cargar midi\\Air Supply\\All Out Of Love.1.mid: 'Chord' object has no attribute 'pitch'\n",
      "Error al cargar midi\\Air Supply\\All Out Of Love.2.mid: 'Chord' object has no attribute 'pitch'\n",
      "Error al cargar midi\\Air Supply\\All Out Of Love.3.mid: 'Chord' object has no attribute 'pitch'\n",
      "Error al cargar midi\\Air Supply\\All Out Of Love.mid: 'Chord' object has no attribute 'pitch'\n",
      "Error al cargar midi\\Air Supply\\Come What May.mid: 'Chord' object has no attribute 'pitch'\n",
      "Error al cargar midi\\Air Supply\\Even the Nights Are Better.1.mid: 'Chord' object has no attribute 'pitch'\n",
      "Error al cargar midi\\Air Supply\\Even the Nights Are Better.mid: 'Chord' object has no attribute 'pitch'\n",
      "Error al cargar midi\\Air Supply\\Goodbye.mid: 'Chord' object has no attribute 'pitch'\n",
      "Error al cargar midi\\Air Supply\\Making Love Out of Nothing at All.1.mid: 'Chord' object has no attribute 'pitch'\n",
      "Error al cargar midi\\Air Supply\\Making Love Out of Nothing at All.2.mid: 'Chord' object has no attribute 'pitch'\n",
      "Error al cargar midi\\Air Supply\\Making Love Out of Nothing at All.mid: 'Chord' object has no attribute 'pitch'\n",
      "Error al cargar midi\\Air Supply\\She Never Heard Me Call.mid: 'Chord' object has no attribute 'pitch'\n",
      "Error al cargar midi\\Al Green\\Let's Stay Together.mid: 'Unpitched' object has no attribute 'pitch'\n",
      "Error al cargar midi\\Al Jarreau\\Moonlighting (Theme).mid: 'Chord' object has no attribute 'pitch'\n",
      "Error al cargar midi\\Al Jarreau\\Roof Garden.1.mid: 'Chord' object has no attribute 'pitch'\n",
      "Error al cargar midi\\Al Jarreau\\We're in This Love Together.mid: 'Chord' object has no attribute 'pitch'\n",
      "Error al cargar midi\\Al Jolson\\You Made Me Love You.mid: 'Chord' object has no attribute 'pitch'\n",
      "Error al cargar midi\\Al Martino\\Spanish Eyes.mid: 'Chord' object has no attribute 'pitch'\n",
      "Error al cargar midi\\Al Martino\\Volare.1.mid: 'Chord' object has no attribute 'pitch'\n"
     ]
    },
    {
     "name": "stderr",
     "output_type": "stream",
     "text": [
      "C:\\Users\\zapat\\AppData\\Local\\Packages\\PythonSoftwareFoundation.Python.3.12_qbz5n2kfra8p0\\LocalCache\\local-packages\\Python312\\site-packages\\music21\\midi\\translate.py:874: TranslateWarning: Unable to determine instrument from <music21.midi.MidiEvent SEQUENCE_TRACK_NAME, track=2, channel=None, data=b'Fl\\x84che'>; getting generic Instrument\n",
      "  warnings.warn(\n"
     ]
    },
    {
     "name": "stdout",
     "output_type": "stream",
     "text": [
      "Error al cargar midi\\Al Stewart\\On The Border.mid: 'Chord' object has no attribute 'pitch'\n",
      "Error al cargar midi\\Al Stewart\\The Year of the Cat.1.mid: 'Chord' object has no attribute 'pitch'\n",
      "Error al cargar midi\\Al Stewart\\The Year of the Cat.mid: 'Chord' object has no attribute 'pitch'\n",
      "Error al cargar midi\\Al Stewart\\Time Passages.mid: 'Chord' object has no attribute 'pitch'\n",
      "Error al cargar midi\\Al Wilson\\Show and Tell.mid: 'Chord' object has no attribute 'pitch'\n",
      "Error al cargar midi\\Alabama\\Angels Among Us.mid: 'Chord' object has no attribute 'pitch'\n",
      "Error al cargar midi\\Alabama\\Born Country.1.mid: 'Chord' object has no attribute 'pitch'\n",
      "Error al cargar midi\\Alabama\\Born Country.mid: 'Chord' object has no attribute 'pitch'\n",
      "Error al cargar midi\\Alabama\\Feels So Right.mid: 'Chord' object has no attribute 'pitch'\n",
      "Error al cargar midi\\Alabama\\How Do You Fall in Love.mid: 'Chord' object has no attribute 'pitch'\n",
      "Error al cargar midi\\Alabama\\I'm in a Hurry.1.mid: 'Chord' object has no attribute 'pitch'\n",
      "Error al cargar midi\\Alabama\\I'm in a Hurry.mid: 'Chord' object has no attribute 'pitch'\n",
      "Error al cargar midi\\Alabama\\Jubilee.mid: 'Chord' object has no attribute 'pitch'\n",
      "Error al cargar midi\\Alabama\\Jukebox in My Mind.1.mid: 'Chord' object has no attribute 'pitch'\n",
      "Error al cargar midi\\Alabama\\Lady Down On Love.mid: 'Chord' object has no attribute 'pitch'\n",
      "Error al cargar midi\\Alabama\\Rain.mid: 'Chord' object has no attribute 'pitch'\n",
      "Error al cargar midi\\Alabama\\Red River.mid: 'Chord' object has no attribute 'pitch'\n",
      "Error al cargar midi\\Alabama\\She and I.mid: 'Chord' object has no attribute 'pitch'\n",
      "Error al cargar midi\\Alabama\\T.L.C. A.S.A.P..mid: 'Chord' object has no attribute 'pitch'\n",
      "Error al cargar midi\\Alabama\\The Closer You Get.mid: 'Chord' object has no attribute 'pitch'\n",
      "Error al cargar midi\\Alabama\\When We Make Love.mid: 'Chord' object has no attribute 'pitch'\n"
     ]
    }
   ],
   "source": [
    "\n",
    "\n",
    "# Función para cargar y procesar archivos MIDI en secuencias de notas\n",
    "def load_midi_files(data_path):\n",
    "    notes = []\n",
    "    for artist_folder in os.listdir(data_path):\n",
    "        artist_path = os.path.join(data_path, artist_folder)\n",
    "        for midi_file in os.listdir(artist_path):\n",
    "            midi_path = os.path.join(artist_path, midi_file)\n",
    "            try:\n",
    "                # Intenta cargar el archivo MIDI\n",
    "                midi_data = converter.parse(midi_path)\n",
    "                parts = instrument.partitionByInstrument(midi_data)\n",
    "                notes_in_song = []\n",
    "                for part in parts.parts:\n",
    "                    # Procesa solo las partes de piano\n",
    "                    if 'Piano' in str(part):\n",
    "                        notes_in_song += [str(note.pitch) for note in part.flat.notes]\n",
    "                if notes_in_song:\n",
    "                    notes.append(notes_in_song)\n",
    "            except Exception as e:\n",
    "                print(f\"Error al cargar {midi_path}: {e}\")\n",
    "                continue\n",
    "    return notes\n",
    "\n",
    "# Cargar datos MIDI\n",
    "data_path = \"midi\"\n",
    "notes = load_midi_files(data_path)\n",
    "\n"
   ]
  },
  {
   "cell_type": "code",
   "execution_count": 6,
   "metadata": {},
   "outputs": [
    {
     "name": "stdout",
     "output_type": "stream",
     "text": [
      "h\n"
     ]
    }
   ],
   "source": [
    "print(\"h\")"
   ]
  },
  {
   "cell_type": "code",
   "execution_count": null,
   "metadata": {},
   "outputs": [],
   "source": [
    "# Preprocesamiento de notas\n",
    "unique_notes = sorted(set(item for song in notes for item in song))\n",
    "print(\"unique_notes: \", unique_notes)\n",
    "note_to_int = {note: num for num, note in enumerate(unique_notes)}\n",
    "\n",
    "sequence_length = 50\n",
    "X = []\n",
    "y = []\n",
    "for song in notes:\n",
    "    if len(song) > sequence_length:\n",
    "        # Convertir la canción en secuencias de enteros\n",
    "        int_song = [note_to_int[note] for note in song]\n",
    "        for i in range(len(int_song) - sequence_length):\n",
    "            X.append(int_song[i:i + sequence_length])\n",
    "            y.append(int_song[i + sequence_length])\n",
    "\n",
    "X = np.reshape(X, (len(X), sequence_length, 1))\n",
    "X = X / float(len(unique_notes))  # Normalizar\n",
    "y = to_categorical(y, num_classes=len(unique_notes))\n",
    "\n",
    "# Crear el modelo RNN\n",
    "model = Sequential([\n",
    "    LSTM(256, input_shape=(X.shape[1], X.shape[2]), return_sequences=True),\n",
    "    LSTM(256, return_sequences=True),\n",
    "    Dropout(0.3),\n",
    "    LSTM(256),\n",
    "    Dense(256, activation='relu'),\n",
    "    Dense(len(unique_notes), activation='softmax')\n",
    "])\n",
    "\n",
    "model.compile(loss='categorical_crossentropy', optimizer='adam', metrics=['accuracy'])\n",
    "\n",
    "# Entrenar el modelo y guardar las métricas\n",
    "history = model.fit(X, y, epochs=50, batch_size=64, validation_split=0.2)\n",
    "model.save(\"music_model.keras\")\n",
    "# Graficar precisión y pérdida\n",
    "plt.figure(figsize=(12, 4))\n",
    "plt.subplot(1, 2, 1)\n",
    "plt.plot(history.history['accuracy'], label='Accuracy')\n",
    "plt.plot(history.history['val_accuracy'], label='Validation Accuracy')\n",
    "plt.xlabel('Epoch')\n",
    "plt.ylabel('Accuracy')\n",
    "plt.legend()\n",
    "plt.title('Accuracy over Epochs')\n",
    "\n",
    "plt.subplot(1, 2, 2)\n",
    "plt.plot(history.history['loss'], label='Loss')\n",
    "plt.plot(history.history['val_loss'], label='Validation Loss')\n",
    "plt.xlabel('Epoch')\n",
    "plt.ylabel('Loss')\n",
    "plt.legend()\n",
    "plt.title('Loss over Epochs')\n",
    "\n",
    "plt.show()\n",
    "\n",
    "\n",
    "\n"
   ]
  },
  {
   "cell_type": "code",
   "execution_count": null,
   "metadata": {},
   "outputs": [],
   "source": [
    "# Función para generar una melodía a partir del modelo\n",
    "def generate_melody(model, start_sequence, melody_length=100):\n",
    "    melody = start_sequence[:]\n",
    "    for _ in range(melody_length):\n",
    "        input_sequence = np.reshape(melody[-sequence_length:], (1, sequence_length, 1))\n",
    "        input_sequence = input_sequence / float(len(unique_notes))\n",
    "        predicted_note = model.predict(input_sequence, verbose=0)\n",
    "        next_note = np.argmax(predicted_note)\n",
    "        melody.append(next_note)\n",
    "    return melody\n",
    "\n",
    "# Generar melodía\n",
    "start_sequence = X[0][:, 0]  # Usa la primera secuencia en el dataset\n",
    "generated_sequence = generate_melody(model, start_sequence)\n",
    "\n",
    "# Convertir la secuencia generada a MIDI\n",
    "def create_midi_from_sequence(generated_sequence, output_filename=\"generated_melody.mid\"):\n",
    "    midi_stream = midi.MidiTrack()\n",
    "    for note_idx in generated_sequence:\n",
    "        note_value = unique_notes[note_idx]\n",
    "        if '.' in note_value or note_value.isdigit():  # Es un acorde\n",
    "            chord_notes = [note.Note(int(n)) for n in note_value.split('.')]\n",
    "            chord_obj = chord.Chord(chord_notes)\n",
    "            midi_stream.append(chord_obj)\n",
    "        else:\n",
    "            midi_stream.append(note.Note(note_value))\n",
    "    midi_stream.write(output_filename)\n",
    "\n",
    "# Guardar la melodía generada en un archivo MIDI\n",
    "create_midi_from_sequence(generated_sequence)"
   ]
  }
 ],
 "metadata": {
  "kernelspec": {
   "display_name": "Python 3",
   "language": "python",
   "name": "python3"
  },
  "language_info": {
   "codemirror_mode": {
    "name": "ipython",
    "version": 3
   },
   "file_extension": ".py",
   "mimetype": "text/x-python",
   "name": "python",
   "nbconvert_exporter": "python",
   "pygments_lexer": "ipython3",
   "version": "3.12.7"
  }
 },
 "nbformat": 4,
 "nbformat_minor": 2
}
